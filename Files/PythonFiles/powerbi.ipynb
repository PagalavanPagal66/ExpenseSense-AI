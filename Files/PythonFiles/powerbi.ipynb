{
 "cells": [
  {
   "cell_type": "code",
   "execution_count": 1,
   "id": "b9192323-0865-42bc-9509-7a1180bb7384",
   "metadata": {},
   "outputs": [],
   "source": [
    "from powerbiclient import QuickVisualize, get_dataset_config, Report"
   ]
  },
  {
   "cell_type": "code",
   "execution_count": 2,
   "id": "a86a9cc6-e473-49ce-a044-bbe779d10556",
   "metadata": {},
   "outputs": [],
   "source": [
    "from powerbiclient.authentication import DeviceCodeLoginAuthentication\n",
    "from powerbiclient.authentication import InteractiveLoginAuthentication"
   ]
  },
  {
   "cell_type": "code",
   "execution_count": 3,
   "id": "b3f10539-a64e-47c8-b15c-dbb65b1b1f9b",
   "metadata": {},
   "outputs": [],
   "source": [
    "import pandas as pd"
   ]
  },
  {
   "cell_type": "code",
   "execution_count": 4,
   "id": "1792c01f-2a9c-422c-9126-5ca646d49b5e",
   "metadata": {},
   "outputs": [
    {
     "name": "stdout",
     "output_type": "stream",
     "text": [
      "Tables in the database: [('Expenses',), ('Budget',)]\n"
     ]
    }
   ],
   "source": [
    "import sqlite3\n",
    "\n",
    "cnx = sqlite3.connect(r'/Users/pagalavanmanoharan/Documents/GitHub/ExpenseSense-AI/Files/PythonFiles/Database/Database.db')\n",
    "cursor = cnx.cursor()\n",
    "\n",
    "# List all tables\n",
    "cursor.execute(\"SELECT name FROM sqlite_master WHERE type='table';\")\n",
    "tables = cursor.fetchall()\n",
    "print(\"Tables in the database:\", tables)\n"
   ]
  },
  {
   "cell_type": "code",
   "execution_count": 5,
   "id": "49508fb6-a39f-4164-a395-d523a4c340e7",
   "metadata": {},
   "outputs": [
    {
     "name": "stdout",
     "output_type": "stream",
     "text": [
      "Absolute path you're connecting to: /Users/pagalavanmanoharan/Documents/GitHub/ExpenseSense-AI/Files/PythonFiles/Database/Database.db\n",
      "Does the file exist? True\n"
     ]
    }
   ],
   "source": [
    "import os\n",
    "\n",
    "path = '/Users/pagalavanmanoharan/Documents/GitHub/ExpenseSense-AI/Files/PythonFiles/Database/Database.db'\n",
    "print(\"Absolute path you're connecting to:\", os.path.abspath(path))\n",
    "print(\"Does the file exist?\", os.path.exists(path))\n"
   ]
  },
  {
   "cell_type": "code",
   "execution_count": 6,
   "id": "6dadb58d-4cac-490a-8010-0a95c174f1a6",
   "metadata": {},
   "outputs": [
    {
     "data": {
      "text/html": [
       "<div>\n",
       "<style scoped>\n",
       "    .dataframe tbody tr th:only-of-type {\n",
       "        vertical-align: middle;\n",
       "    }\n",
       "\n",
       "    .dataframe tbody tr th {\n",
       "        vertical-align: top;\n",
       "    }\n",
       "\n",
       "    .dataframe thead th {\n",
       "        text-align: right;\n",
       "    }\n",
       "</style>\n",
       "<table border=\"1\" class=\"dataframe\">\n",
       "  <thead>\n",
       "    <tr style=\"text-align: right;\">\n",
       "      <th></th>\n",
       "      <th>label</th>\n",
       "      <th>amount</th>\n",
       "      <th>tags</th>\n",
       "    </tr>\n",
       "  </thead>\n",
       "  <tbody>\n",
       "    <tr>\n",
       "      <th>0</th>\n",
       "      <td>Food</td>\n",
       "      <td>500</td>\n",
       "      <td>Food</td>\n",
       "    </tr>\n",
       "    <tr>\n",
       "      <th>1</th>\n",
       "      <td>Travel</td>\n",
       "      <td>1000</td>\n",
       "      <td>Travel</td>\n",
       "    </tr>\n",
       "  </tbody>\n",
       "</table>\n",
       "</div>"
      ],
      "text/plain": [
       "    label amount    tags\n",
       "0    Food    500    Food\n",
       "1  Travel   1000  Travel"
      ]
     },
     "execution_count": 6,
     "metadata": {},
     "output_type": "execute_result"
    }
   ],
   "source": [
    "import pandas as pd\n",
    "# Create your connection.\n",
    "cnx = sqlite3.connect(r'/Users/pagalavanmanoharan/Documents/GitHub/ExpenseSense-AI/Files/PythonFiles/Database/Database.db')\n",
    "df = pd.read_sql_query(\"SELECT * from Expenses\", cnx)\n",
    "df"
   ]
  },
  {
   "cell_type": "code",
   "execution_count": 7,
   "id": "3f846f77-e6ae-46ed-afa9-75812ac25480",
   "metadata": {},
   "outputs": [
    {
     "data": {
      "text/html": [
       "<div>\n",
       "<style scoped>\n",
       "    .dataframe tbody tr th:only-of-type {\n",
       "        vertical-align: middle;\n",
       "    }\n",
       "\n",
       "    .dataframe tbody tr th {\n",
       "        vertical-align: top;\n",
       "    }\n",
       "\n",
       "    .dataframe thead th {\n",
       "        text-align: right;\n",
       "    }\n",
       "</style>\n",
       "<table border=\"1\" class=\"dataframe\">\n",
       "  <thead>\n",
       "    <tr style=\"text-align: right;\">\n",
       "      <th></th>\n",
       "      <th>label</th>\n",
       "      <th>amount</th>\n",
       "      <th>tags</th>\n",
       "    </tr>\n",
       "  </thead>\n",
       "  <tbody>\n",
       "    <tr>\n",
       "      <th>0</th>\n",
       "      <td>Food</td>\n",
       "      <td>500</td>\n",
       "      <td>Food</td>\n",
       "    </tr>\n",
       "    <tr>\n",
       "      <th>1</th>\n",
       "      <td>Travel</td>\n",
       "      <td>1000</td>\n",
       "      <td>Travel</td>\n",
       "    </tr>\n",
       "  </tbody>\n",
       "</table>\n",
       "</div>"
      ],
      "text/plain": [
       "    label amount    tags\n",
       "0    Food    500    Food\n",
       "1  Travel   1000  Travel"
      ]
     },
     "execution_count": 7,
     "metadata": {},
     "output_type": "execute_result"
    }
   ],
   "source": [
    "df"
   ]
  },
  {
   "cell_type": "code",
   "execution_count": 8,
   "id": "462244be-e4dc-4e12-9ca7-7b0154d66730",
   "metadata": {},
   "outputs": [
    {
     "data": {
      "text/html": [
       "<div>\n",
       "<style scoped>\n",
       "    .dataframe tbody tr th:only-of-type {\n",
       "        vertical-align: middle;\n",
       "    }\n",
       "\n",
       "    .dataframe tbody tr th {\n",
       "        vertical-align: top;\n",
       "    }\n",
       "\n",
       "    .dataframe thead th {\n",
       "        text-align: right;\n",
       "    }\n",
       "</style>\n",
       "<table border=\"1\" class=\"dataframe\">\n",
       "  <thead>\n",
       "    <tr style=\"text-align: right;\">\n",
       "      <th></th>\n",
       "      <th>label</th>\n",
       "      <th>amount</th>\n",
       "    </tr>\n",
       "  </thead>\n",
       "  <tbody>\n",
       "    <tr>\n",
       "      <th>0</th>\n",
       "      <td>Budget</td>\n",
       "      <td>5000</td>\n",
       "    </tr>\n",
       "    <tr>\n",
       "      <th>1</th>\n",
       "      <td>Bonus</td>\n",
       "      <td>1000</td>\n",
       "    </tr>\n",
       "  </tbody>\n",
       "</table>\n",
       "</div>"
      ],
      "text/plain": [
       "    label amount\n",
       "0  Budget   5000\n",
       "1   Bonus   1000"
      ]
     },
     "execution_count": 8,
     "metadata": {},
     "output_type": "execute_result"
    }
   ],
   "source": [
    "cnx2 = sqlite3.connect(r'/Users/pagalavanmanoharan/Documents/GitHub/ExpenseSense-AI/Files/PythonFiles/Database/Database.db')\n",
    "\n",
    "df = pd.read_sql_query(\"SELECT * FROM Budget\", cnx2)\n",
    "df"
   ]
  },
  {
   "cell_type": "code",
   "execution_count": 9,
   "id": "65935fe9-4a1d-4154-ab37-13e3904d04fc",
   "metadata": {},
   "outputs": [
    {
     "name": "stdout",
     "output_type": "stream",
     "text": [
      "Performing device flow authentication. Please follow the instructions below.\n",
      "To sign in, use a web browser to open the page https://microsoft.com/devicelogin and enter the code NGZUD9LCH to authenticate.\n",
      "\n",
      "Device flow authentication successfully completed.\n",
      "You are now logged in .\n",
      "\n",
      "The result should be passed only to trusted code in your notebook.\n"
     ]
    }
   ],
   "source": [
    "auth = DeviceCodeLoginAuthentication()"
   ]
  },
  {
   "cell_type": "code",
   "execution_count": 10,
   "id": "fb445495-ce17-4c73-ac14-c8f2102f1ce0",
   "metadata": {},
   "outputs": [],
   "source": [
    "PBI_vis = QuickVisualize(get_dataset_config(df), auth = auth)"
   ]
  },
  {
   "cell_type": "code",
   "execution_count": 11,
   "id": "bb5825d2-9d42-432f-a1e0-890cbde6cb2e",
   "metadata": {},
   "outputs": [
    {
     "data": {
      "application/vnd.jupyter.widget-view+json": {
       "model_id": "409271613b2e480891d199425f3ee4aa",
       "version_major": 2,
       "version_minor": 0
      },
      "text/plain": [
       "QuickVisualize()"
      ]
     },
     "execution_count": 11,
     "metadata": {},
     "output_type": "execute_result"
    }
   ],
   "source": [
    "PBI_vis"
   ]
  },
  {
   "cell_type": "code",
   "execution_count": 45,
   "id": "75199286-1acc-4fe1-a0b9-4399a5120346",
   "metadata": {},
   "outputs": [
    {
     "name": "stdout",
     "output_type": "stream",
     "text": [
      "Requirement already satisfied: powerbiclient in /Library/Frameworks/Python.framework/Versions/3.13/lib/python3.13/site-packages (3.1.1)\n",
      "Requirement already satisfied: ipywidgets>=7.0.0 in /Library/Frameworks/Python.framework/Versions/3.13/lib/python3.13/site-packages (from powerbiclient) (8.1.5)\n",
      "Requirement already satisfied: jupyter-ui-poll>=0.1.2 in /Library/Frameworks/Python.framework/Versions/3.13/lib/python3.13/site-packages (from powerbiclient) (1.0.0)\n",
      "Requirement already satisfied: msal>=1.8.0 in /Library/Frameworks/Python.framework/Versions/3.13/lib/python3.13/site-packages (from powerbiclient) (1.32.0)\n",
      "Requirement already satisfied: requests>=2.25.1 in /Library/Frameworks/Python.framework/Versions/3.13/lib/python3.13/site-packages (from powerbiclient) (2.32.3)\n",
      "Requirement already satisfied: pandas in /Library/Frameworks/Python.framework/Versions/3.13/lib/python3.13/site-packages (from powerbiclient) (2.2.3)\n",
      "Requirement already satisfied: pyspark in /Library/Frameworks/Python.framework/Versions/3.13/lib/python3.13/site-packages (from powerbiclient) (3.5.5)\n",
      "Requirement already satisfied: comm>=0.1.3 in /Users/pagalavanmanoharan/Library/Python/3.13/lib/python/site-packages (from ipywidgets>=7.0.0->powerbiclient) (0.2.2)\n",
      "Requirement already satisfied: ipython>=6.1.0 in /Users/pagalavanmanoharan/Library/Python/3.13/lib/python/site-packages (from ipywidgets>=7.0.0->powerbiclient) (9.1.0)\n",
      "Requirement already satisfied: traitlets>=4.3.1 in /Users/pagalavanmanoharan/Library/Python/3.13/lib/python/site-packages (from ipywidgets>=7.0.0->powerbiclient) (5.14.3)\n",
      "Requirement already satisfied: widgetsnbextension~=4.0.12 in /Library/Frameworks/Python.framework/Versions/3.13/lib/python3.13/site-packages (from ipywidgets>=7.0.0->powerbiclient) (4.0.13)\n",
      "Requirement already satisfied: jupyterlab-widgets~=3.0.12 in /Library/Frameworks/Python.framework/Versions/3.13/lib/python3.13/site-packages (from ipywidgets>=7.0.0->powerbiclient) (3.0.13)\n",
      "Requirement already satisfied: PyJWT<3,>=1.0.0 in /Library/Frameworks/Python.framework/Versions/3.13/lib/python3.13/site-packages (from PyJWT[crypto]<3,>=1.0.0->msal>=1.8.0->powerbiclient) (2.10.1)\n",
      "Requirement already satisfied: cryptography<47,>=2.5 in /Library/Frameworks/Python.framework/Versions/3.13/lib/python3.13/site-packages (from msal>=1.8.0->powerbiclient) (44.0.2)\n",
      "Requirement already satisfied: charset-normalizer<4,>=2 in /Library/Frameworks/Python.framework/Versions/3.13/lib/python3.13/site-packages (from requests>=2.25.1->powerbiclient) (3.4.1)\n",
      "Requirement already satisfied: idna<4,>=2.5 in /Library/Frameworks/Python.framework/Versions/3.13/lib/python3.13/site-packages (from requests>=2.25.1->powerbiclient) (3.10)\n",
      "Requirement already satisfied: urllib3<3,>=1.21.1 in /Library/Frameworks/Python.framework/Versions/3.13/lib/python3.13/site-packages (from requests>=2.25.1->powerbiclient) (2.3.0)\n",
      "Requirement already satisfied: certifi>=2017.4.17 in /Library/Frameworks/Python.framework/Versions/3.13/lib/python3.13/site-packages (from requests>=2.25.1->powerbiclient) (2025.1.31)\n",
      "Requirement already satisfied: numpy>=1.26.0 in /Library/Frameworks/Python.framework/Versions/3.13/lib/python3.13/site-packages (from pandas->powerbiclient) (2.2.4)\n",
      "Requirement already satisfied: python-dateutil>=2.8.2 in /Library/Frameworks/Python.framework/Versions/3.13/lib/python3.13/site-packages (from pandas->powerbiclient) (2.9.0.post0)\n",
      "Requirement already satisfied: pytz>=2020.1 in /Library/Frameworks/Python.framework/Versions/3.13/lib/python3.13/site-packages (from pandas->powerbiclient) (2025.2)\n",
      "Requirement already satisfied: tzdata>=2022.7 in /Library/Frameworks/Python.framework/Versions/3.13/lib/python3.13/site-packages (from pandas->powerbiclient) (2025.2)\n",
      "Requirement already satisfied: py4j==0.10.9.7 in /Library/Frameworks/Python.framework/Versions/3.13/lib/python3.13/site-packages (from pyspark->powerbiclient) (0.10.9.7)\n",
      "Requirement already satisfied: cffi>=1.12 in /Library/Frameworks/Python.framework/Versions/3.13/lib/python3.13/site-packages (from cryptography<47,>=2.5->msal>=1.8.0->powerbiclient) (1.17.1)\n",
      "Requirement already satisfied: decorator in /Users/pagalavanmanoharan/Library/Python/3.13/lib/python/site-packages (from ipython>=6.1.0->ipywidgets>=7.0.0->powerbiclient) (5.2.1)\n",
      "Requirement already satisfied: ipython-pygments-lexers in /Users/pagalavanmanoharan/Library/Python/3.13/lib/python/site-packages (from ipython>=6.1.0->ipywidgets>=7.0.0->powerbiclient) (1.1.1)\n",
      "Requirement already satisfied: jedi>=0.16 in /Users/pagalavanmanoharan/Library/Python/3.13/lib/python/site-packages (from ipython>=6.1.0->ipywidgets>=7.0.0->powerbiclient) (0.19.2)\n",
      "Requirement already satisfied: matplotlib-inline in /Users/pagalavanmanoharan/Library/Python/3.13/lib/python/site-packages (from ipython>=6.1.0->ipywidgets>=7.0.0->powerbiclient) (0.1.7)\n",
      "Requirement already satisfied: pexpect>4.3 in /Users/pagalavanmanoharan/Library/Python/3.13/lib/python/site-packages (from ipython>=6.1.0->ipywidgets>=7.0.0->powerbiclient) (4.9.0)\n",
      "Requirement already satisfied: prompt_toolkit<3.1.0,>=3.0.41 in /Users/pagalavanmanoharan/Library/Python/3.13/lib/python/site-packages (from ipython>=6.1.0->ipywidgets>=7.0.0->powerbiclient) (3.0.50)\n",
      "Requirement already satisfied: pygments>=2.4.0 in /Library/Frameworks/Python.framework/Versions/3.13/lib/python3.13/site-packages (from ipython>=6.1.0->ipywidgets>=7.0.0->powerbiclient) (2.19.1)\n",
      "Requirement already satisfied: stack_data in /Users/pagalavanmanoharan/Library/Python/3.13/lib/python/site-packages (from ipython>=6.1.0->ipywidgets>=7.0.0->powerbiclient) (0.6.3)\n",
      "Requirement already satisfied: six>=1.5 in /Library/Frameworks/Python.framework/Versions/3.13/lib/python3.13/site-packages (from python-dateutil>=2.8.2->pandas->powerbiclient) (1.17.0)\n",
      "Requirement already satisfied: pycparser in /Library/Frameworks/Python.framework/Versions/3.13/lib/python3.13/site-packages (from cffi>=1.12->cryptography<47,>=2.5->msal>=1.8.0->powerbiclient) (2.22)\n",
      "Requirement already satisfied: parso<0.9.0,>=0.8.4 in /Users/pagalavanmanoharan/Library/Python/3.13/lib/python/site-packages (from jedi>=0.16->ipython>=6.1.0->ipywidgets>=7.0.0->powerbiclient) (0.8.4)\n",
      "Requirement already satisfied: ptyprocess>=0.5 in /Users/pagalavanmanoharan/Library/Python/3.13/lib/python/site-packages (from pexpect>4.3->ipython>=6.1.0->ipywidgets>=7.0.0->powerbiclient) (0.7.0)\n",
      "Requirement already satisfied: wcwidth in /Users/pagalavanmanoharan/Library/Python/3.13/lib/python/site-packages (from prompt_toolkit<3.1.0,>=3.0.41->ipython>=6.1.0->ipywidgets>=7.0.0->powerbiclient) (0.2.13)\n",
      "Requirement already satisfied: executing>=1.2.0 in /Users/pagalavanmanoharan/Library/Python/3.13/lib/python/site-packages (from stack_data->ipython>=6.1.0->ipywidgets>=7.0.0->powerbiclient) (2.2.0)\n",
      "Requirement already satisfied: asttokens>=2.1.0 in /Users/pagalavanmanoharan/Library/Python/3.13/lib/python/site-packages (from stack_data->ipython>=6.1.0->ipywidgets>=7.0.0->powerbiclient) (3.0.0)\n",
      "Requirement already satisfied: pure-eval in /Users/pagalavanmanoharan/Library/Python/3.13/lib/python/site-packages (from stack_data->ipython>=6.1.0->ipywidgets>=7.0.0->powerbiclient) (0.2.3)\n"
     ]
    }
   ],
   "source": [
    "!pip install powerbiclient"
   ]
  },
  {
   "cell_type": "code",
   "execution_count": 48,
   "id": "37e61b1d-0c44-4e56-aad5-d754c820e2ed",
   "metadata": {},
   "outputs": [
    {
     "name": "stdout",
     "output_type": "stream",
     "text": [
      "\u001b[31mERROR: Could not find a version that satisfies the requirement powerbi-jupyter (from versions: none)\u001b[0m\u001b[31m\n",
      "\u001b[0m\u001b[31mERROR: No matching distribution found for powerbi-jupyter\u001b[0m\u001b[31m\n",
      "\u001b[0mRequirement already satisfied: ipywidgets in /Library/Frameworks/Python.framework/Versions/3.13/lib/python3.13/site-packages (8.1.5)\n",
      "Requirement already satisfied: comm>=0.1.3 in /Users/pagalavanmanoharan/Library/Python/3.13/lib/python/site-packages (from ipywidgets) (0.2.2)\n",
      "Requirement already satisfied: ipython>=6.1.0 in /Users/pagalavanmanoharan/Library/Python/3.13/lib/python/site-packages (from ipywidgets) (9.1.0)\n",
      "Requirement already satisfied: traitlets>=4.3.1 in /Users/pagalavanmanoharan/Library/Python/3.13/lib/python/site-packages (from ipywidgets) (5.14.3)\n",
      "Requirement already satisfied: widgetsnbextension~=4.0.12 in /Library/Frameworks/Python.framework/Versions/3.13/lib/python3.13/site-packages (from ipywidgets) (4.0.13)\n",
      "Requirement already satisfied: jupyterlab-widgets~=3.0.12 in /Library/Frameworks/Python.framework/Versions/3.13/lib/python3.13/site-packages (from ipywidgets) (3.0.13)\n",
      "Requirement already satisfied: decorator in /Users/pagalavanmanoharan/Library/Python/3.13/lib/python/site-packages (from ipython>=6.1.0->ipywidgets) (5.2.1)\n",
      "Requirement already satisfied: ipython-pygments-lexers in /Users/pagalavanmanoharan/Library/Python/3.13/lib/python/site-packages (from ipython>=6.1.0->ipywidgets) (1.1.1)\n",
      "Requirement already satisfied: jedi>=0.16 in /Users/pagalavanmanoharan/Library/Python/3.13/lib/python/site-packages (from ipython>=6.1.0->ipywidgets) (0.19.2)\n",
      "Requirement already satisfied: matplotlib-inline in /Users/pagalavanmanoharan/Library/Python/3.13/lib/python/site-packages (from ipython>=6.1.0->ipywidgets) (0.1.7)\n",
      "Requirement already satisfied: pexpect>4.3 in /Users/pagalavanmanoharan/Library/Python/3.13/lib/python/site-packages (from ipython>=6.1.0->ipywidgets) (4.9.0)\n",
      "Requirement already satisfied: prompt_toolkit<3.1.0,>=3.0.41 in /Users/pagalavanmanoharan/Library/Python/3.13/lib/python/site-packages (from ipython>=6.1.0->ipywidgets) (3.0.50)\n",
      "Requirement already satisfied: pygments>=2.4.0 in /Library/Frameworks/Python.framework/Versions/3.13/lib/python3.13/site-packages (from ipython>=6.1.0->ipywidgets) (2.19.1)\n",
      "Requirement already satisfied: stack_data in /Users/pagalavanmanoharan/Library/Python/3.13/lib/python/site-packages (from ipython>=6.1.0->ipywidgets) (0.6.3)\n",
      "Requirement already satisfied: parso<0.9.0,>=0.8.4 in /Users/pagalavanmanoharan/Library/Python/3.13/lib/python/site-packages (from jedi>=0.16->ipython>=6.1.0->ipywidgets) (0.8.4)\n",
      "Requirement already satisfied: ptyprocess>=0.5 in /Users/pagalavanmanoharan/Library/Python/3.13/lib/python/site-packages (from pexpect>4.3->ipython>=6.1.0->ipywidgets) (0.7.0)\n",
      "Requirement already satisfied: wcwidth in /Users/pagalavanmanoharan/Library/Python/3.13/lib/python/site-packages (from prompt_toolkit<3.1.0,>=3.0.41->ipython>=6.1.0->ipywidgets) (0.2.13)\n",
      "Requirement already satisfied: executing>=1.2.0 in /Users/pagalavanmanoharan/Library/Python/3.13/lib/python/site-packages (from stack_data->ipython>=6.1.0->ipywidgets) (2.2.0)\n",
      "Requirement already satisfied: asttokens>=2.1.0 in /Users/pagalavanmanoharan/Library/Python/3.13/lib/python/site-packages (from stack_data->ipython>=6.1.0->ipywidgets) (3.0.0)\n",
      "Requirement already satisfied: pure-eval in /Users/pagalavanmanoharan/Library/Python/3.13/lib/python/site-packages (from stack_data->ipython>=6.1.0->ipywidgets) (0.2.3)\n"
     ]
    }
   ],
   "source": [
    "!pip install --upgrade powerbi-jupyter\n",
    "!pip install ipywidgets"
   ]
  },
  {
   "cell_type": "code",
   "execution_count": 49,
   "id": "a9ee925c-ac64-4367-b6b6-07cb5188acdf",
   "metadata": {},
   "outputs": [
    {
     "ename": "SyntaxError",
     "evalue": "invalid syntax (2387287618.py, line 1)",
     "output_type": "error",
     "traceback": [
      "  \u001b[36mCell\u001b[39m\u001b[36m \u001b[39m\u001b[32mIn[49]\u001b[39m\u001b[32m, line 1\u001b[39m\n\u001b[31m    \u001b[39m\u001b[31mjupyter labextension install powerbi-jupyter\u001b[39m\n            ^\n\u001b[31mSyntaxError\u001b[39m\u001b[31m:\u001b[39m invalid syntax\n"
     ]
    }
   ],
   "source": [
    "jupyter labextension install powerbi-jupyter\n"
   ]
  },
  {
   "cell_type": "code",
   "execution_count": 50,
   "id": "468cb790-ec71-436d-b7ec-8a1935689912",
   "metadata": {},
   "outputs": [
    {
     "data": {
      "application/vnd.jupyter.widget-view+json": {
       "model_id": "90b920fd71354b228a0b1c026070da14",
       "version_major": 2,
       "version_minor": 0
      },
      "text/plain": [
       "IntSlider(value=0)"
      ]
     },
     "execution_count": 50,
     "metadata": {},
     "output_type": "execute_result"
    }
   ],
   "source": [
    "import ipywidgets as widgets\n",
    "widgets.IntSlider()\n"
   ]
  },
  {
   "cell_type": "code",
   "execution_count": null,
   "id": "62a686f5-62cc-40c6-9418-14eb37f4ed63",
   "metadata": {},
   "outputs": [],
   "source": []
  }
 ],
 "metadata": {
  "kernelspec": {
   "display_name": "Python 3 (ipykernel)",
   "language": "python",
   "name": "python3"
  },
  "language_info": {
   "codemirror_mode": {
    "name": "ipython",
    "version": 3
   },
   "file_extension": ".py",
   "mimetype": "text/x-python",
   "name": "python",
   "nbconvert_exporter": "python",
   "pygments_lexer": "ipython3",
   "version": "3.13.2"
  }
 },
 "nbformat": 4,
 "nbformat_minor": 5
}
