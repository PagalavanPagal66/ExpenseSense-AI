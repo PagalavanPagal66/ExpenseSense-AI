{
 "cells": [
  {
   "cell_type": "code",
   "execution_count": 1,
   "id": "b9192323-0865-42bc-9509-7a1180bb7384",
   "metadata": {},
   "outputs": [],
   "source": [
    "from powerbiclient import QuickVisualize, get_dataset_config, Report"
   ]
  },
  {
   "cell_type": "code",
   "execution_count": 2,
   "id": "a86a9cc6-e473-49ce-a044-bbe779d10556",
   "metadata": {},
   "outputs": [],
   "source": [
    "from powerbiclient.authentication import DeviceCodeLoginAuthentication\n",
    "from powerbiclient.authentication import InteractiveLoginAuthentication"
   ]
  },
  {
   "cell_type": "code",
   "execution_count": 3,
   "id": "b3f10539-a64e-47c8-b15c-dbb65b1b1f9b",
   "metadata": {},
   "outputs": [],
   "source": [
    "import pandas as pd"
   ]
  },
  {
   "cell_type": "code",
   "execution_count": 4,
   "id": "1792c01f-2a9c-422c-9126-5ca646d49b5e",
   "metadata": {},
   "outputs": [
    {
     "name": "stdout",
     "output_type": "stream",
     "text": [
      "Tables in the database: [('Expenses',), ('Budget',)]\n"
     ]
    }
   ],
   "source": [
    "import sqlite3\n",
    "\n",
    "cnx = sqlite3.connect(r'/Users/pagalavanmanoharan/Documents/GitHub/ExpenseSense-AI/Files/PythonFiles/Database/Database.db')\n",
    "cursor = cnx.cursor()\n",
    "\n",
    "# List all tables\n",
    "cursor.execute(\"SELECT name FROM sqlite_master WHERE type='table';\")\n",
    "tables = cursor.fetchall()\n",
    "print(\"Tables in the database:\", tables)\n"
   ]
  },
  {
   "cell_type": "code",
   "execution_count": 5,
   "id": "49508fb6-a39f-4164-a395-d523a4c340e7",
   "metadata": {},
   "outputs": [
    {
     "name": "stdout",
     "output_type": "stream",
     "text": [
      "Absolute path you're connecting to: /Users/pagalavanmanoharan/Documents/GitHub/ExpenseSense-AI/Files/PythonFiles/Database/Database.db\n",
      "Does the file exist? True\n"
     ]
    }
   ],
   "source": [
    "import os\n",
    "\n",
    "path = '/Users/pagalavanmanoharan/Documents/GitHub/ExpenseSense-AI/Files/PythonFiles/Database/Database.db'\n",
    "print(\"Absolute path you're connecting to:\", os.path.abspath(path))\n",
    "print(\"Does the file exist?\", os.path.exists(path))\n"
   ]
  },
  {
   "cell_type": "code",
   "execution_count": 6,
   "id": "6dadb58d-4cac-490a-8010-0a95c174f1a6",
   "metadata": {},
   "outputs": [
    {
     "data": {
      "text/html": [
       "<div>\n",
       "<style scoped>\n",
       "    .dataframe tbody tr th:only-of-type {\n",
       "        vertical-align: middle;\n",
       "    }\n",
       "\n",
       "    .dataframe tbody tr th {\n",
       "        vertical-align: top;\n",
       "    }\n",
       "\n",
       "    .dataframe thead th {\n",
       "        text-align: right;\n",
       "    }\n",
       "</style>\n",
       "<table border=\"1\" class=\"dataframe\">\n",
       "  <thead>\n",
       "    <tr style=\"text-align: right;\">\n",
       "      <th></th>\n",
       "      <th>label</th>\n",
       "      <th>amount</th>\n",
       "      <th>tags</th>\n",
       "    </tr>\n",
       "  </thead>\n",
       "  <tbody>\n",
       "    <tr>\n",
       "      <th>0</th>\n",
       "      <td>Food</td>\n",
       "      <td>500</td>\n",
       "      <td>Food</td>\n",
       "    </tr>\n",
       "    <tr>\n",
       "      <th>1</th>\n",
       "      <td>Travel</td>\n",
       "      <td>1000</td>\n",
       "      <td>Travel</td>\n",
       "    </tr>\n",
       "  </tbody>\n",
       "</table>\n",
       "</div>"
      ],
      "text/plain": [
       "    label amount    tags\n",
       "0    Food    500    Food\n",
       "1  Travel   1000  Travel"
      ]
     },
     "execution_count": 6,
     "metadata": {},
     "output_type": "execute_result"
    }
   ],
   "source": [
    "import pandas as pd\n",
    "# Create your connection.\n",
    "cnx = sqlite3.connect(r'/Users/pagalavanmanoharan/Documents/GitHub/ExpenseSense-AI/Files/PythonFiles/Database/Database.db')\n",
    "df = pd.read_sql_query(\"SELECT * from Expenses\", cnx)\n",
    "df"
   ]
  },
  {
   "cell_type": "code",
   "execution_count": 7,
   "id": "3f846f77-e6ae-46ed-afa9-75812ac25480",
   "metadata": {},
   "outputs": [
    {
     "data": {
      "text/html": [
       "<div>\n",
       "<style scoped>\n",
       "    .dataframe tbody tr th:only-of-type {\n",
       "        vertical-align: middle;\n",
       "    }\n",
       "\n",
       "    .dataframe tbody tr th {\n",
       "        vertical-align: top;\n",
       "    }\n",
       "\n",
       "    .dataframe thead th {\n",
       "        text-align: right;\n",
       "    }\n",
       "</style>\n",
       "<table border=\"1\" class=\"dataframe\">\n",
       "  <thead>\n",
       "    <tr style=\"text-align: right;\">\n",
       "      <th></th>\n",
       "      <th>label</th>\n",
       "      <th>amount</th>\n",
       "      <th>tags</th>\n",
       "    </tr>\n",
       "  </thead>\n",
       "  <tbody>\n",
       "    <tr>\n",
       "      <th>0</th>\n",
       "      <td>Food</td>\n",
       "      <td>500</td>\n",
       "      <td>Food</td>\n",
       "    </tr>\n",
       "    <tr>\n",
       "      <th>1</th>\n",
       "      <td>Travel</td>\n",
       "      <td>1000</td>\n",
       "      <td>Travel</td>\n",
       "    </tr>\n",
       "  </tbody>\n",
       "</table>\n",
       "</div>"
      ],
      "text/plain": [
       "    label amount    tags\n",
       "0    Food    500    Food\n",
       "1  Travel   1000  Travel"
      ]
     },
     "execution_count": 7,
     "metadata": {},
     "output_type": "execute_result"
    }
   ],
   "source": [
    "df"
   ]
  },
  {
   "cell_type": "code",
   "execution_count": 8,
   "id": "462244be-e4dc-4e12-9ca7-7b0154d66730",
   "metadata": {},
   "outputs": [
    {
     "data": {
      "text/html": [
       "<div>\n",
       "<style scoped>\n",
       "    .dataframe tbody tr th:only-of-type {\n",
       "        vertical-align: middle;\n",
       "    }\n",
       "\n",
       "    .dataframe tbody tr th {\n",
       "        vertical-align: top;\n",
       "    }\n",
       "\n",
       "    .dataframe thead th {\n",
       "        text-align: right;\n",
       "    }\n",
       "</style>\n",
       "<table border=\"1\" class=\"dataframe\">\n",
       "  <thead>\n",
       "    <tr style=\"text-align: right;\">\n",
       "      <th></th>\n",
       "      <th>label</th>\n",
       "      <th>amount</th>\n",
       "    </tr>\n",
       "  </thead>\n",
       "  <tbody>\n",
       "    <tr>\n",
       "      <th>0</th>\n",
       "      <td>Budget</td>\n",
       "      <td>5000</td>\n",
       "    </tr>\n",
       "    <tr>\n",
       "      <th>1</th>\n",
       "      <td>Bonus</td>\n",
       "      <td>1000</td>\n",
       "    </tr>\n",
       "  </tbody>\n",
       "</table>\n",
       "</div>"
      ],
      "text/plain": [
       "    label amount\n",
       "0  Budget   5000\n",
       "1   Bonus   1000"
      ]
     },
     "execution_count": 8,
     "metadata": {},
     "output_type": "execute_result"
    }
   ],
   "source": [
    "cnx2 = sqlite3.connect(r'/Users/pagalavanmanoharan/Documents/GitHub/ExpenseSense-AI/Files/PythonFiles/Database/Database.db')\n",
    "\n",
    "df = pd.read_sql_query(\"SELECT * FROM Budget\", cnx2)\n",
    "df"
   ]
  },
  {
   "cell_type": "code",
   "execution_count": 9,
   "id": "65935fe9-4a1d-4154-ab37-13e3904d04fc",
   "metadata": {},
   "outputs": [
    {
     "name": "stdout",
     "output_type": "stream",
     "text": [
      "Performing device flow authentication. Please follow the instructions below.\n",
      "To sign in, use a web browser to open the page https://microsoft.com/devicelogin and enter the code NU8ZHCM6R to authenticate.\n",
      "\n",
      "Device flow authentication successfully completed.\n",
      "You are now logged in .\n",
      "\n",
      "The result should be passed only to trusted code in your notebook.\n"
     ]
    }
   ],
   "source": [
    "auth = DeviceCodeLoginAuthentication()"
   ]
  },
  {
   "cell_type": "code",
   "execution_count": 10,
   "id": "fb445495-ce17-4c73-ac14-c8f2102f1ce0",
   "metadata": {},
   "outputs": [],
   "source": [
    "PBI_vis = QuickVisualize(get_dataset_config(df), auth = auth)"
   ]
  },
  {
   "cell_type": "code",
   "execution_count": 11,
   "id": "bb5825d2-9d42-432f-a1e0-890cbde6cb2e",
   "metadata": {},
   "outputs": [
    {
     "data": {
      "application/vnd.jupyter.widget-view+json": {
       "model_id": "4771f1a9a1234be781b6966b9fc41cc2",
       "version_major": 2,
       "version_minor": 0
      },
      "text/plain": [
       "QuickVisualize()"
      ]
     },
     "execution_count": 11,
     "metadata": {},
     "output_type": "execute_result"
    }
   ],
   "source": [
    "PBI_vis"
   ]
  },
  {
   "cell_type": "code",
   "execution_count": 12,
   "id": "75199286-1acc-4fe1-a0b9-4399a5120346",
   "metadata": {},
   "outputs": [],
   "source": [
    "# Example DataFrame for Pie Chart\n",
    "df_pie = pd.DataFrame({\n",
    "    'Category': ['A', 'B', 'C', 'D'],\n",
    "    'Value': [15, 25, 35, 25]\n",
    "})\n"
   ]
  },
  {
   "cell_type": "code",
   "execution_count": 14,
   "id": "37e61b1d-0c44-4e56-aad5-d754c820e2ed",
   "metadata": {},
   "outputs": [
    {
     "data": {
      "application/vnd.jupyter.widget-view+json": {
       "model_id": "a9793d41f4324b7e94fdf4298656f2f3",
       "version_major": 2,
       "version_minor": 0
      },
      "text/plain": [
       "QuickVisualize()"
      ]
     },
     "execution_count": 14,
     "metadata": {},
     "output_type": "execute_result"
    }
   ],
   "source": [
    "# Embed the Pie Chart in Power BI\n",
    "PBI_pie_vis = QuickVisualize(get_dataset_config(df_pie), auth=auth)\n",
    "\n",
    "# Display Pie Chart Visualization\n",
    "PBI_pie_vis  # This will display the Power BI Pie Chart visualization in JupyterLab\n"
   ]
  },
  {
   "cell_type": "code",
   "execution_count": 50,
   "id": "468cb790-ec71-436d-b7ec-8a1935689912",
   "metadata": {},
   "outputs": [
    {
     "data": {
      "application/vnd.jupyter.widget-view+json": {
       "model_id": "90b920fd71354b228a0b1c026070da14",
       "version_major": 2,
       "version_minor": 0
      },
      "text/plain": [
       "IntSlider(value=0)"
      ]
     },
     "execution_count": 50,
     "metadata": {},
     "output_type": "execute_result"
    }
   ],
   "source": []
  },
  {
   "cell_type": "code",
   "execution_count": null,
   "id": "62a686f5-62cc-40c6-9418-14eb37f4ed63",
   "metadata": {},
   "outputs": [],
   "source": []
  }
 ],
 "metadata": {
  "kernelspec": {
   "display_name": "Python 3 (ipykernel)",
   "language": "python",
   "name": "python3"
  },
  "language_info": {
   "codemirror_mode": {
    "name": "ipython",
    "version": 3
   },
   "file_extension": ".py",
   "mimetype": "text/x-python",
   "name": "python",
   "nbconvert_exporter": "python",
   "pygments_lexer": "ipython3",
   "version": "3.13.2"
  }
 },
 "nbformat": 4,
 "nbformat_minor": 5
}
